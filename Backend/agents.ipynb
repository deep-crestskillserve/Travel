{
 "cells": [
  {
   "cell_type": "code",
   "execution_count": 13,
   "id": "a0dd1377",
   "metadata": {},
   "outputs": [],
   "source": [
    "from langgraph.graph import StateGraph, END\n",
    "from langchain_core.messages import HumanMessage, AIMessage\n",
    "from langchain_google_genai import ChatGoogleGenerativeAI\n",
    "import asyncio\n",
    "import sys\n",
    "import os\n",
    "from hotels import list_hotels\n",
    "import logging\n",
    "import re\n",
    "import json\n",
    "from dotenv import load_dotenv"
   ]
  },
  {
   "cell_type": "code",
   "execution_count": 14,
   "id": "898c06c2",
   "metadata": {},
   "outputs": [
    {
     "data": {
      "text/plain": [
       "True"
      ]
     },
     "execution_count": 14,
     "metadata": {},
     "output_type": "execute_result"
    }
   ],
   "source": [
    "load_dotenv(override = True)"
   ]
  },
  {
   "cell_type": "code",
   "execution_count": 15,
   "id": "ecf4a0a7",
   "metadata": {},
   "outputs": [],
   "source": [
    "logging.basicConfig(level=logging.INFO, format=\"%(asctime)s - %(name)s - %(levelname)s - %(message)s\")\n",
    "logger = logging.getLogger(__name__)"
   ]
  },
  {
   "cell_type": "code",
   "execution_count": 16,
   "id": "e482c532",
   "metadata": {},
   "outputs": [],
   "source": [
    "GEMINI_API_KEY = os.getenv(\"GEMINI_API_KEY\")\n",
    "llm = ChatGoogleGenerativeAI(model=\"gemini-2.0-flash\", api_key=GEMINI_API_KEY)\n"
   ]
  },
  {
   "cell_type": "code",
   "execution_count": 31,
   "id": "91cd777e",
   "metadata": {},
   "outputs": [],
   "source": [
    "class AgentState:\n",
    "    def __init__(self):\n",
    "        self.messages = []\n",
    "        self.hotel_data = None\n",
    "        self.pending_confirmation = None"
   ]
  },
  {
   "cell_type": "code",
   "execution_count": 46,
   "id": "dca1ed85",
   "metadata": {},
   "outputs": [],
   "source": [
    "# Function to get coordinates from LLM\n",
    "async def get_coordinates(location):\n",
    "    try:\n",
    "        prompt = (\n",
    "            f\"You are a highly accurate LLM tasked with providing the geolocation coordinates \"\n",
    "            f\"for the given location: {location}. \"\n",
    "            f\"Return only the coordinates in the format {{\\\"latitude\\\": number, \\\"longitude\\\": number}}, \"\n",
    "            f\"with no additional information or explanations. \"\n",
    "            f\"Example output: {{\\\"latitude\\\": 21.1467, \\\"longitude\\\": 72.7765}}\"\n",
    "        )\n",
    "\n",
    "        response = llm.invoke([HumanMessage(content=prompt)])\n",
    "        return (response.content)\n",
    "    except Exception as e:\n",
    "        logger.error(f\"LLM coordinate error: {str(e)}\")\n",
    "        return None"
   ]
  },
  {
   "cell_type": "code",
   "execution_count": 48,
   "id": "f1704199",
   "metadata": {},
   "outputs": [
    {
     "name": "stdout",
     "output_type": "stream",
     "text": [
      "{\"latitude\": 21.1764, \"longitude\": 72.7866}\n"
     ]
    }
   ],
   "source": [
    "location = \"Gujarat Gas Circle, Adajan\"\n",
    "print(await get_coordinates(location))"
   ]
  },
  {
   "cell_type": "code",
   "execution_count": 49,
   "id": "9e3c5fa3",
   "metadata": {},
   "outputs": [],
   "source": [
    "coordinates_prompt = (\n",
    "    f\"You are a highly accurate LLM tasked with providing the geolocation coordinates \"\n",
    "    f\"for the given location: {location}. \"\n",
    "    f\"Return only the coordinates in the format {{\\\"latitude\\\": number, \\\"longitude\\\": number}}, \"\n",
    "    f\"with no additional information or explanations. \"\n",
    "    f\"Example output: {{\\\"latitude\\\": 21.1467, \\\"longitude\\\": 72.7765}}\"\n",
    ")\n"
   ]
  },
  {
   "cell_type": "code",
   "execution_count": 50,
   "id": "8e1af818",
   "metadata": {},
   "outputs": [
    {
     "name": "stdout",
     "output_type": "stream",
     "text": [
      "{\"latitude\": 21.1721, \"longitude\": 72.7978}\n"
     ]
    }
   ],
   "source": [
    "response = llm.invoke([HumanMessage(content=coordinates_prompt)])\n",
    "print(response.content)"
   ]
  },
  {
   "cell_type": "code",
   "execution_count": null,
   "id": "5405e428",
   "metadata": {},
   "outputs": [],
   "source": []
  }
 ],
 "metadata": {
  "kernelspec": {
   "display_name": ".venv",
   "language": "python",
   "name": "python3"
  },
  "language_info": {
   "codemirror_mode": {
    "name": "ipython",
    "version": 3
   },
   "file_extension": ".py",
   "mimetype": "text/x-python",
   "name": "python",
   "nbconvert_exporter": "python",
   "pygments_lexer": "ipython3",
   "version": "3.11.13"
  }
 },
 "nbformat": 4,
 "nbformat_minor": 5
}
